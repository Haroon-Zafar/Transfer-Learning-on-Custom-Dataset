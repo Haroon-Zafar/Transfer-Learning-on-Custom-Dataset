{
 "cells": [
  {
   "cell_type": "markdown",
   "metadata": {},
   "source": [
    "Importing Libraries"
   ]
  },
  {
   "cell_type": "code",
   "execution_count": 1,
   "metadata": {},
   "outputs": [],
   "source": [
    "import splitfolders"
   ]
  },
  {
   "cell_type": "markdown",
   "metadata": {},
   "source": [
    "To start the training of your Model, you have to split your dataset into Training, Testing and Validation"
   ]
  },
  {
   "cell_type": "code",
   "execution_count": 2,
   "metadata": {},
   "outputs": [
    {
     "name": "stderr",
     "output_type": "stream",
     "text": [
      "Copying files: 4317 files [00:22, 191.70 files/s]\n"
     ]
    }
   ],
   "source": [
    "# Here we are splitting the data into train, val, and test folders in the ratio 80:10:10\n",
    "# seed is used to ensure that the same split is produced every time the code is run\n",
    "# splitfolders.ratio is used to split the data into train, val, and test folders in the ratio 80:10:10\n",
    "inputFolders = \"G:/python_workspaces/Transfer Learning on Custom Dataset/flowers\"\n",
    "output = \"G:/python_workspaces/Transfer Learning on Custom Dataset/flowers_split\"\n",
    "splitfolders.ratio(inputFolders, output, seed=1337, ratio=(.8, .1, .1))"
   ]
  },
  {
   "cell_type": "code",
   "execution_count": null,
   "metadata": {},
   "outputs": [],
   "source": [
    "help(splitfolders.ratio)"
   ]
  }
 ],
 "metadata": {
  "kernelspec": {
   "display_name": "Python 3.9.4 64-bit",
   "language": "python",
   "name": "python3"
  },
  "language_info": {
   "codemirror_mode": {
    "name": "ipython",
    "version": 3
   },
   "file_extension": ".py",
   "mimetype": "text/x-python",
   "name": "python",
   "nbconvert_exporter": "python",
   "pygments_lexer": "ipython3",
   "version": "3.9.4"
  },
  "orig_nbformat": 4,
  "vscode": {
   "interpreter": {
    "hash": "69713e280fccb9aa802931bf1b98f79efcfe938b3ab1e86cc85b2e647522a81d"
   }
  }
 },
 "nbformat": 4,
 "nbformat_minor": 2
}
